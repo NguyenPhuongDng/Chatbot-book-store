{
 "cells": [
  {
   "cell_type": "code",
   "execution_count": 21,
   "id": "1f043824",
   "metadata": {},
   "outputs": [],
   "source": [
    "import sqlite3, json\n",
    "\n",
    "DB_PATH = \"books.db\"\n",
    "\n",
    "# Tạo bảng Books\n",
    "conn = sqlite3.connect(DB_PATH)\n",
    "c = conn.cursor()\n",
    "c.execute(\"DROP TABLE IF EXISTS Books\")\n",
    "c.execute(\"\"\"\n",
    "CREATE TABLE Books(\n",
    "    book_id INTEGER PRIMARY KEY AUTOINCREMENT,\n",
    "    title TEXT,\n",
    "    author TEXT,\n",
    "    price INTEGER,\n",
    "    stock INTEGER,\n",
    "    category TEXT\n",
    ")\n",
    "\"\"\")\n",
    "\n",
    "# Load dữ liệu từ books.json\n",
    "with open(\"books.json\", \"r\", encoding=\"utf-8\") as f:\n",
    "    books = json.load(f)\n",
    "\n",
    "for b in books:\n",
    "    c.execute(\"INSERT INTO Books(title, author, price, stock, category) VALUES (?, ?, ?, ?, ?)\",\n",
    "              (b[\"title\"], b[\"author\"], b[\"price\"], b[\"stock\"], b[\"category\"]))\n",
    "\n",
    "conn.commit()\n",
    "conn.close()\n"
   ]
  },
  {
   "cell_type": "code",
   "execution_count": 22,
   "id": "71834384",
   "metadata": {},
   "outputs": [],
   "source": [
    "import sqlite3\n",
    "def query_books_by_dict(filters: dict):\n",
    "    conn = sqlite3.connect(\"books.db\")\n",
    "    cursor = conn.cursor()\n",
    "\n",
    "    conditions = []\n",
    "    values = []\n",
    "\n",
    "    for key, value in filters.items():\n",
    "        if value is not None:\n",
    "            conditions.append(f\"{key} LIKE ?\")\n",
    "            values.append(f\"%{value}%\")\n",
    "\n",
    "    sql = \"SELECT * FROM books\"\n",
    "    if conditions:\n",
    "        sql += \" WHERE \" + \" AND \".join(conditions)\n",
    "\n",
    "    cursor.execute(sql, values)\n",
    "    rows = cursor.fetchall()\n",
    "    conn.close()\n",
    "    return rows"
   ]
  },
  {
   "cell_type": "code",
   "execution_count": 20,
   "id": "eb199bb6",
   "metadata": {},
   "outputs": [
    {
     "name": "stdout",
     "output_type": "stream",
     "text": [
      "[(1, 'Truyện Kiều', 'Nguyễn Du', 80000, 30, 'Văn học Việt Nam')]\n"
     ]
    }
   ],
   "source": [
    "query_dict = {\n",
    "    \"title\": \"truyện kiều\",\n",
    "    \"author\": None,\n",
    "    \"category\": None\n",
    "}\n",
    "books = query_books_by_dict(query_dict)\n",
    "\n",
    "print(books)"
   ]
  }
 ],
 "metadata": {
  "kernelspec": {
   "display_name": "Python 3",
   "language": "python",
   "name": "python3"
  },
  "language_info": {
   "codemirror_mode": {
    "name": "ipython",
    "version": 3
   },
   "file_extension": ".py",
   "mimetype": "text/x-python",
   "name": "python",
   "nbconvert_exporter": "python",
   "pygments_lexer": "ipython3",
   "version": "3.10.0"
  }
 },
 "nbformat": 4,
 "nbformat_minor": 5
}
